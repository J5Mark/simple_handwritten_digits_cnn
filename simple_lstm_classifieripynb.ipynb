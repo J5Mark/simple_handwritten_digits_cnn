{
 "cells": [
  {
   "cell_type": "code",
   "execution_count": 108,
   "metadata": {},
   "outputs": [],
   "source": [
    "import numpy as np\n",
    "import tensorflow as tf\n",
    "import pandas as pd\n",
    "import matplotlib.pyplot as plt\n",
    "from tensorflow.keras import layers\n",
    "import matplotlib.pyplot as pl\n",
    "from tensorflow import keras"
   ]
  },
  {
   "cell_type": "code",
   "execution_count": 109,
   "metadata": {},
   "outputs": [],
   "source": [
    "(x_train, y_train), (x_test, y_test) = keras.datasets.mnist.load_data()\n",
    "x_train[0] = x_train[0][0]/256\n",
    "x_test[0] = x_test[0]/256"
   ]
  },
  {
   "cell_type": "code",
   "execution_count": 110,
   "metadata": {},
   "outputs": [
    {
     "data": {
      "text/plain": [
       "array([0, 0, 0, 0, 0, 1, 0, 0, 0, 0])"
      ]
     },
     "execution_count": 110,
     "metadata": {},
     "output_type": "execute_result"
    }
   ],
   "source": [
    "y_tr, y_te = [], []\n",
    "for each in y_train:\n",
    "    y_tr.append([int(i==each) for i in range(10)])\n",
    "for each in y_te:\n",
    "    y_te.append([int(i==each) for i in range(10)])\n",
    "y_tr = np.array(y_tr)\n",
    "y_te = np.array(y_te)\n",
    "y_tr[0]"
   ]
  },
  {
   "cell_type": "code",
   "execution_count": 111,
   "metadata": {},
   "outputs": [],
   "source": [
    "batch_size = 256\n",
    "buffer_size = x_train.shape[0]"
   ]
  },
  {
   "cell_type": "code",
   "execution_count": 112,
   "metadata": {},
   "outputs": [
    {
     "data": {
      "text/plain": [
       "(60000, 28, 28)"
      ]
     },
     "execution_count": 112,
     "metadata": {},
     "output_type": "execute_result"
    }
   ],
   "source": [
    "x_train.shape"
   ]
  },
  {
   "cell_type": "code",
   "execution_count": 113,
   "metadata": {},
   "outputs": [],
   "source": [
    "#x_train = np.reshape(x_train, (x_train.shape[0], (28, 28, 1)))\n",
    "#x_test = np.reshape(x_test, (x_test.shape[0], (28, 28, 1)))"
   ]
  },
  {
   "cell_type": "code",
   "execution_count": 115,
   "metadata": {},
   "outputs": [],
   "source": [
    "model = tf.keras.Sequential()\n",
    "layrs = [keras.layers.Conv2D(32, (3, 3), input_shape=(28, 28, 1), activation='relu'),\n",
    "          keras.layers.MaxPool2D((2, 2)),\n",
    "          keras.layers.LeakyReLU(),\n",
    "          keras.layers.Dropout(0.2),\n",
    "          \n",
    "          keras.layers.Conv2D(32, (3, 3), activation='relu'),\n",
    "          keras.layers.MaxPool2D((2, 2)),\n",
    "          keras.layers.LeakyReLU(),\n",
    "          keras.layers.Dropout(0.2),\n",
    "\n",
    "          keras.layers.Flatten(),\n",
    "          keras.layers.Dense(20, activation='relu'),\n",
    "          keras.layers.Dense(10, activation='relu'),\n",
    "          keras.layers.Dense(10, activation='softmax')]\n",
    "\n",
    "for each in layrs: model.add(each)\n",
    "optimizer = keras.optimizers.Adam()\n",
    "loss = keras.losses.CategoricalCrossentropy()\n",
    "model.compile(optimizer = optimizer, loss = loss, metrics=['acc'])"
   ]
  },
  {
   "cell_type": "code",
   "execution_count": 116,
   "metadata": {},
   "outputs": [
    {
     "name": "stdout",
     "output_type": "stream",
     "text": [
      "Epoch 1/20\n",
      "211/211 [==============================] - 9s 42ms/step - loss: 2.7078 - acc: 0.1638 - val_loss: 1.8625 - val_acc: 0.3108\n",
      "Epoch 2/20\n",
      "211/211 [==============================] - 8s 40ms/step - loss: 1.8254 - acc: 0.3152 - val_loss: 1.6793 - val_acc: 0.3325\n",
      "Epoch 3/20\n",
      "211/211 [==============================] - 8s 40ms/step - loss: 1.6670 - acc: 0.3369 - val_loss: 1.5765 - val_acc: 0.3418\n",
      "Epoch 4/20\n",
      "211/211 [==============================] - 9s 42ms/step - loss: 1.5233 - acc: 0.3808 - val_loss: 1.2127 - val_acc: 0.5163\n",
      "Epoch 5/20\n",
      "211/211 [==============================] - 9s 42ms/step - loss: 0.9992 - acc: 0.6339 - val_loss: 0.7760 - val_acc: 0.6913\n",
      "Epoch 6/20\n",
      "211/211 [==============================] - 9s 42ms/step - loss: 0.7657 - acc: 0.7013 - val_loss: 0.5018 - val_acc: 0.8402\n",
      "Epoch 7/20\n",
      "211/211 [==============================] - 9s 42ms/step - loss: 0.4437 - acc: 0.8509 - val_loss: 0.2957 - val_acc: 0.8837\n",
      "Epoch 8/20\n",
      "211/211 [==============================] - 9s 42ms/step - loss: 0.2961 - acc: 0.9161 - val_loss: 0.1281 - val_acc: 0.9697\n",
      "Epoch 9/20\n",
      "211/211 [==============================] - 9s 43ms/step - loss: 0.1773 - acc: 0.9514 - val_loss: 0.0890 - val_acc: 0.9777\n",
      "Epoch 10/20\n",
      "211/211 [==============================] - 9s 44ms/step - loss: 0.1355 - acc: 0.9624 - val_loss: 0.0713 - val_acc: 0.9805\n",
      "Epoch 11/20\n",
      "211/211 [==============================] - 9s 44ms/step - loss: 0.1148 - acc: 0.9680 - val_loss: 0.0622 - val_acc: 0.9827\n",
      "Epoch 12/20\n",
      "211/211 [==============================] - 9s 45ms/step - loss: 0.0996 - acc: 0.9713 - val_loss: 0.0537 - val_acc: 0.9860\n",
      "Epoch 13/20\n",
      "211/211 [==============================] - 10s 47ms/step - loss: 0.0852 - acc: 0.9751 - val_loss: 0.0503 - val_acc: 0.9858\n",
      "Epoch 14/20\n",
      "211/211 [==============================] - 9s 45ms/step - loss: 0.0841 - acc: 0.9757 - val_loss: 0.0474 - val_acc: 0.9868\n",
      "Epoch 15/20\n",
      "211/211 [==============================] - 10s 46ms/step - loss: 0.0725 - acc: 0.9784 - val_loss: 0.0500 - val_acc: 0.9858\n",
      "Epoch 16/20\n",
      "211/211 [==============================] - 12s 55ms/step - loss: 0.0659 - acc: 0.9796 - val_loss: 0.0447 - val_acc: 0.9875\n",
      "Epoch 17/20\n",
      "211/211 [==============================] - 11s 54ms/step - loss: 0.0636 - acc: 0.9805 - val_loss: 0.0428 - val_acc: 0.9880\n",
      "Epoch 18/20\n",
      "211/211 [==============================] - 11s 53ms/step - loss: 0.0602 - acc: 0.9810 - val_loss: 0.0461 - val_acc: 0.9875\n",
      "Epoch 19/20\n",
      "211/211 [==============================] - 11s 53ms/step - loss: 0.0573 - acc: 0.9823 - val_loss: 0.0426 - val_acc: 0.9878\n",
      "Epoch 20/20\n",
      "211/211 [==============================] - 11s 53ms/step - loss: 0.0533 - acc: 0.9835 - val_loss: 0.0412 - val_acc: 0.9878\n"
     ]
    },
    {
     "data": {
      "text/plain": [
       "<keras.src.callbacks.History at 0x24dfe56ea50>"
      ]
     },
     "execution_count": 116,
     "metadata": {},
     "output_type": "execute_result"
    }
   ],
   "source": [
    "model.fit(x=x_train, y=y_tr, batch_size=batch_size, epochs=20, validation_split=0.1, shuffle=True)"
   ]
  },
  {
   "cell_type": "code",
   "execution_count": 117,
   "metadata": {},
   "outputs": [
    {
     "data": {
      "image/png": "[encoded data removed]",
      "text/plain": [
       "<Figure size 640x480 with 1 Axes>"
      ]
     },
     "metadata": {},
     "output_type": "display_data"
    }
   ],
   "source": [
    "fig, ax = plt.subplots()\n",
    "im = ax.imshow(np.reshape(x_test[4], (28, 28)))"
   ]
  },
  {
   "cell_type": "code",
   "execution_count": 119,
   "metadata": {},
   "outputs": [
    {
     "data": {
      "text/plain": [
       "(28, 28)"
      ]
     },
     "execution_count": 119,
     "metadata": {},
     "output_type": "execute_result"
    }
   ],
   "source": [
    "x_test[4].shape"
   ]
  },
  {
   "cell_type": "code",
   "execution_count": 124,
   "metadata": {},
   "outputs": [
    {
     "name": "stdout",
     "output_type": "stream",
     "text": [
      "1/1 [==============================] - 0s 26ms/step\n"
     ]
    },
    {
     "data": {
      "text/plain": [
       "array([[1.1620321e-09, 6.7563627e-10, 3.0752018e-12, 2.5221259e-11,\n",
       "        9.9976140e-01, 9.1469969e-09, 2.8326632e-08, 3.9863215e-09,\n",
       "        4.8128412e-10, 2.3858265e-04]], dtype=float32)"
      ]
     },
     "execution_count": 124,
     "metadata": {},
     "output_type": "execute_result"
    }
   ],
   "source": [
    "model.predict(np.reshape(x_test[4], (1, 28, 28, 1)))"
   ]
  },
  {
   "cell_type": "code",
   "execution_count": null,
   "metadata": {},
   "outputs": [],
   "source": []
  }
 ],
 "metadata": {
  "kernelspec": {
   "display_name": "Python 3",
   "language": "python",
   "name": "python3"
  },
  "language_info": {
   "codemirror_mode": {
    "name": "ipython",
    "version": 3
   },
   "file_extension": ".py",
   "mimetype": "text/x-python",
   "name": "python",
   "nbconvert_exporter": "python",
   "pygments_lexer": "ipython3",
   "version": "3.11.5"
  },
  "orig_nbformat": 4
 },
 "nbformat": 4,
 "nbformat_minor": 2
}
